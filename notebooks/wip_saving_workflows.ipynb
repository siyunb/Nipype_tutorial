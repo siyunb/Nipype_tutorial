{
 "cells": [
  {
   "cell_type": "markdown",
   "metadata": {},
   "source": [
    "# Saving Workflows and Nodes to a file (experimental)\n",
    "\n",
    "On top of the standard way of saving (i.e. serializing) objects in Python\n",
    "(see [pickle](http://docs.python.org/2/library/pickle.html)) Nipype\n",
    "provides methods to turn Workflows and nodes into human readable code.\n",
    "This is useful if you want to save a Workflow that you have generated\n",
    "on the fly for future use.\n",
    "\n",
    "# Example 1\n",
    "\n",
    "Let's first create a workflow:"
   ]
  },
  {
   "cell_type": "code",
   "execution_count": null,
   "metadata": {},
   "outputs": [],
   "source": [
    "from nipype.interfaces.fsl import BET, ImageMaths\n",
    "from nipype import Workflow, Node, MapNode\n",
    "from nipype.interfaces.utility import Function, IdentityInterface\n",
    "\n",
    "bet = Node(BET(), name='bet')\n",
    "bet.iterables = ('frac', [0.3, 0.4])\n",
    "\n",
    "bet2 = MapNode(BET(), name='bet2', iterfield=['infile'])\n",
    "bet2.iterables = ('frac', [0.4, 0.5])\n",
    "\n",
    "maths = Node(ImageMaths(), name='maths')\n",
    "\n",
    "def testfunc(in1):\n",
    "    \"\"\"dummy func\n",
    "    \"\"\"\n",
    "    out = in1 + 'foo' + \"out1\"\n",
    "    return out\n",
    "\n",
    "funcnode = Node(Function(input_names=['a'], output_names=['output'], function=testfunc),\n",
    "                name='testfunc')\n",
    "funcnode.inputs.in1 = '-sub'\n",
    "func = lambda x: x\n",
    "\n",
    "inode = Node(IdentityInterface(fields=['a']), name='inode')\n",
    "\n",
    "wf = Workflow('testsave')\n",
    "wf.add_nodes([bet2])\n",
    "wf.connect(bet, 'mask_file', maths, 'in_file')\n",
    "wf.connect(bet2, ('mask_file', func), maths, 'in_file2')\n",
    "wf.connect(inode, 'a', funcnode, 'in1')\n",
    "wf.connect(funcnode, 'output', maths, 'op_string')"
   ]
  },
  {
   "cell_type": "markdown",
   "metadata": {},
   "source": [
    "To generate and export the Python code of this Workflow, we can use the `export` method:"
   ]
  },
  {
   "cell_type": "code",
   "execution_count": null,
   "metadata": {},
   "outputs": [],
   "source": [
    "wf.export('special_workflow.py')"
   ]
  },
  {
   "cell_type": "markdown",
   "metadata": {},
   "source": [
    "This will create a file `special_workflow.py` with the following content:"
   ]
  },
  {
   "cell_type": "code",
   "execution_count": null,
   "metadata": {},
   "outputs": [],
   "source": [
    "from nipype import Workflow, Node, MapNode\n",
    "from nipype.interfaces.utility import IdentityInterface\n",
    "from nipype.interfaces.utility import Function\n",
    "from nipype.utils.functions import getsource\n",
    "from nipype.interfaces.fsl.preprocess import BET\n",
    "from nipype.interfaces.fsl.utils import ImageMaths\n",
    "# Functions\n",
    "func = lambda x: x\n",
    "# Workflow\n",
    "testsave = Workflow(\"testsave\")\n",
    "# Node: testsave.inode\n",
    "inode = Node(IdentityInterface(fields=['a'], mandatory_inputs=True), name=\"inode\")\n",
    "# Node: testsave.testfunc\n",
    "testfunc = Node(Function(input_names=['a'], output_names=['output']), name=\"testfunc\")\n",
    "testfunc.interface.ignore_exception = False\n",
    "def testfunc_1(in1):\n",
    "    \"\"\"dummy func\n",
    "    \"\"\"\n",
    "    out = in1 + 'foo' + \"out1\"\n",
    "    return out\n",
    "\n",
    "testfunc.inputs.function_str = getsource(testfunc_1)\n",
    "testfunc.inputs.in1 = '-sub'\n",
    "testsave.connect(inode, \"a\", testfunc, \"in1\")\n",
    "# Node: testsave.bet2\n",
    "bet2 = MapNode(BET(), iterfield=['infile'], name=\"bet2\")\n",
    "bet2.interface.ignore_exception = False\n",
    "bet2.iterables = ('frac', [0.4, 0.5])\n",
    "bet2.inputs.environ = {'FSLOUTPUTTYPE': 'NIFTI_GZ'}\n",
    "bet2.inputs.output_type = 'NIFTI_GZ'\n",
    "bet2.terminal_output = 'stream'\n",
    "# Node: testsave.bet\n",
    "bet = Node(BET(), name=\"bet\")\n",
    "bet.interface.ignore_exception = False\n",
    "bet.iterables = ('frac', [0.3, 0.4])\n",
    "bet.inputs.environ = {'FSLOUTPUTTYPE': 'NIFTI_GZ'}\n",
    "bet.inputs.output_type = 'NIFTI_GZ'\n",
    "bet.terminal_output = 'stream'\n",
    "# Node: testsave.maths\n",
    "maths = Node(ImageMaths(), name=\"maths\")\n",
    "maths.interface.ignore_exception = False\n",
    "maths.inputs.environ = {'FSLOUTPUTTYPE': 'NIFTI_GZ'}\n",
    "maths.inputs.output_type = 'NIFTI_GZ'\n",
    "maths.terminal_output = 'stream'\n",
    "testsave.connect(bet2, ('mask_file', func), maths, \"in_file2\")\n",
    "testsave.connect(bet, \"mask_file\", maths, \"in_file\")\n",
    "testsave.connect(testfunc, \"output\", maths, \"op_string\")"
   ]
  },
  {
   "cell_type": "markdown",
   "metadata": {},
   "source": [
    "The file is ready to use and includes all the necessary imports."
   ]
  }
 ],
 "metadata": {
  "kernelspec": {
   "display_name": "Python [default]",
   "language": "python",
   "name": "python3"
  },
  "language_info": {
   "codemirror_mode": {
    "name": "ipython",
    "version": 3
   },
   "file_extension": ".py",
   "mimetype": "text/x-python",
   "name": "python",
   "nbconvert_exporter": "python",
   "pygments_lexer": "ipython3",
   "version": "3.6.5"
  }
 },
 "nbformat": 4,
 "nbformat_minor": 2
}
