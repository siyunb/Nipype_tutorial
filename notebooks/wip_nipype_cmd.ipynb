{
 "cells": [
  {
   "cell_type": "markdown",
   "metadata": {},
   "source": [
    "# Running Nipype Interfaces from the command line (nipype_cmd)"
   ]
  },
  {
   "cell_type": "markdown",
   "metadata": {},
   "source": [
    "The primary use of [Nipype](http://nipy.org/nipype/) is to build automated non-interactive pipelines.\n",
    "However, sometimes there is a need to run some interfaces quickly from the command line.\n",
    "This is especially useful when running Interfaces wrapping code that does not have\n",
    "command line equivalents (nipy or SPM). Being able to run Nipype interfaces opens new\n",
    "possibilities such as the inclusion of SPM processing steps in bash scripts.\n",
    "\n",
    "To run Nipype Interfaces you need to use the nipype_cmd tool that should already be installed.\n",
    "The tool allows you to list Interfaces available in a certain package:"
   ]
  },
  {
   "cell_type": "markdown",
   "metadata": {},
   "source": [
    "    $nipype_cmd nipype.interfaces.nipy\n",
    "\n",
    "    Available Interfaces:\n",
    "        SpaceTimeRealigner\n",
    "        Similarity\n",
    "        ComputeMask\n",
    "        FitGLM\n",
    "        EstimateContrast"
   ]
  },
  {
   "cell_type": "markdown",
   "metadata": {},
   "source": [
    "After selecting a particular Interface you can learn what inputs it requires:"
   ]
  },
  {
   "cell_type": "markdown",
   "metadata": {},
   "source": [
    "    $nipype_cmd nipype.interfaces.nipy ComputeMask --help\n",
    "\n",
    "\tusage:nipype_cmd nipype.interfaces.nipy ComputeMask [-h] [--M M] [--cc CC]\n",
    "\t                                                     [--ignore_exception IGNORE_EXCEPTION]\n",
    "\t                                                     [--m M]\n",
    "\t                                                     [--reference_volume REFERENCE_VOLUME]\n",
    "\t                                                     mean_volume\n",
    "\n",
    "\tRun ComputeMask\n",
    "\n",
    "\tpositional arguments:\n",
    "\t  mean_volume           mean EPI image, used to compute the threshold for the\n",
    "\t                        mask\n",
    "\n",
    "\toptional arguments:\n",
    "\t  -h, --help            show this help message and exit\n",
    "\t  --M M                 upper fraction of the histogram to be discarded\n",
    "\t  --cc CC               Keep only the largest connected component\n",
    "\t  --ignore_exception IGNORE_EXCEPTION\n",
    "\t                        Print an error message instead of throwing an\n",
    "\t                        exception in case the interface fails to run\n",
    "\t  --m M                 lower fraction of the histogram to be discarded\n",
    "\t  --reference_volume REFERENCE_VOLUME\n",
    "\t                        reference volume used to compute the mask. If none is\n",
    "\t                        give, the mean volume is used."
   ]
  },
  {
   "cell_type": "markdown",
   "metadata": {},
   "source": [
    "Finally, you can run the Interface:"
   ]
  },
  {
   "cell_type": "markdown",
   "metadata": {},
   "source": [
    "\t$nipype_cmd nipype.interfaces.nipy ComputeMask mean.nii.gz"
   ]
  },
  {
   "cell_type": "markdown",
   "metadata": {},
   "source": [
    "All that from the command line without having to start python interpreter manually."
   ]
  }
 ],
 "metadata": {
  "kernelspec": {
   "display_name": "Python [default]",
   "language": "python",
   "name": "python3"
  },
  "language_info": {
   "codemirror_mode": {
    "name": "ipython",
    "version": 3
   },
   "file_extension": ".py",
   "mimetype": "text/x-python",
   "name": "python",
   "nbconvert_exporter": "python",
   "pygments_lexer": "ipython3",
   "version": "3.6.5"
  }
 },
 "nbformat": 4,
 "nbformat_minor": 2
}
