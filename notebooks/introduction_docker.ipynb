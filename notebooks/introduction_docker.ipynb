{
 "cells": [
  {
   "cell_type": "markdown",
   "metadata": {},
   "source": [
    "<center><img src=\"../static/images/logoDocker.png\" width=500></center>\n",
    "\n",
    "# Docker\n",
    "\n",
    "[Docker](https://www.docker.com) is an open-source project that automates the deployment of applications inside software containers. Those containers wrap up a piece of software in a complete filesystem that contains everything it needs to run: code, system tools, software libraries, such as Python, FSL, AFNI, SPM, FreeSurfer, ANTs, etc. This guarantees that it will always run the same, regardless of the environment it is running in.\n",
    "\n",
    "<font color='red'>Important:</font> **You don't need Docker to run Nipype on your system**. For Mac and Linux users, it probably is much simpler to install Nipype directly on your system. For more information on how to do this see the [Nipype website](resources_installation.ipynb). But for Windows users, or users that don't want to set up all the dependencies themselves, Docker is the way to go."
   ]
  },
  {
   "cell_type": "markdown",
   "metadata": {},
   "source": [
    "# Docker Image for the interactive Nipype Tutorial\n",
    "\n",
    "If you want to run this Nipype Tutorial with the example dataset locally on your own system, you need to use the docker image, provided under [miykael/nipype_tutorial](https://hub.docker.com/r/miykael/nipype_tutorial/). This docker image sets up a Linux environment on your system, with functioning Python, Nipype, FSL, ANTs and SPM12 software package, some example data, and all the tutorial notebooks to learn Nipype. Alternatively, you can also build your own docker image from Dockerfile or create a different Dockerfile using [Neurodocker](https://github.com/kaczmarj/neurodocker)."
   ]
  },
  {
   "cell_type": "markdown",
   "metadata": {},
   "source": [
    "# Install Docker\n",
    "\n",
    "Before you can do anything, you first need to install [Docker](https://www.docker.com) on your system. The installation process differs per system. Luckily, the docker homepage has nice instructions for...\n",
    "\n",
    " - [Ubuntu](https://docs.docker.com/engine/installation/linux/ubuntu/) or [Debian](https://docs.docker.com/engine/installation/linux/docker-ce/debian/)\n",
    " - [Windows 7/8/9/10](https://docs.docker.com/toolbox/toolbox_install_windows/) or [Windows 10Pro](https://docs.docker.com/docker-for-windows/install/)\n",
    " - [OS X (from El Capitan 10.11 on)](https://docs.docker.com/docker-for-mac/install/) or [OS X (before El Capitan 10.11)](https://docs.docker.com/toolbox/toolbox_install_mac/).\n",
    "\n",
    "Once Docker is installed, open up the docker terminal and test it works with the command:\n",
    "\n",
    "    docker run hello-world\n",
    "\n",
    "**Note:** Linux users might need to use ``sudo`` to run ``docker`` commands or follow [post-installation steps](https://docs.docker.com/engine/installation/linux/linux-postinstall/)."
   ]
  },
  {
   "cell_type": "markdown",
   "metadata": {},
   "source": [
    "# Pulling the Docker image\n",
    "\n",
    "You can download various Docker images, but for this tutorial, we will suggest  ``miykael/nipype_tutorial``:\n",
    "\n",
    "    docker pull miykael/nipype_tutorial:latest\n",
    "    \n",
    "Once it's done you can check available images on your system:\n",
    "\n",
    "    docker images"
   ]
  },
  {
   "cell_type": "markdown",
   "metadata": {},
   "source": [
    "# How to run the Docker image\n",
    "\n",
    "After installing docker on your system and making sure that the ``hello-world`` example was running, we are good to go to start the Nipype Tutorial image. The exact implementation is a bit different for Windows user, but the general commands look similar.\n",
    "\n",
    "The suggested Docker image, miykael/nipype_tutorial, already contains all tutorial notebooks and data used in the tutorial, so the simplest way to run container is:\n",
    "\n",
    "    docker run -it --rm -p 8888:8888 miykael/nipype_tutorial jupyter notebook\n",
    "    \n",
    "However, if you want to use your version of notebooks, save notebook outputs locally or use you local data, you can also mount your local directories, e.g.: \n",
    "\n",
    "    docker run -it --rm -v /path/to/nipype_tutorial/:/home/neuro/nipype_tutorial -v /path/to/data/:/data -v /path/to/output/:/output -p 8888:8888 miykael/nipype_tutorial jupyter notebook\n",
    "\n",
    "But what do those flags mean?\n",
    "\n",
    "- The ``-it`` flag tells docker that it should open an interactive container instance.\n",
    "- The ``--rm`` flag tells docker that the container should automatically be removed after we close docker.\n",
    "- The ``-p`` flag specifies which port we want to make available for docker.\n",
    "- The ``-v`` flag tells docker which folders should be mount to make them accessible inside the container. Here: ``/path/to/nipype_tutorial`` is your local directory where you downloaded [Nipype Tutorial repository](https://github.com/miykael/nipype_tutorial/). ``/path/to/data/`` is a directory where you have dataset [``ds000114``](https://openfmri.org/dataset/ds000114/), and ``/path/to/output`` can be an empty directory that will be used for output. The second part of the ``-v`` flag (here: ``/home/neuro/nipype_tutorial``, ``/data`` or ``/output``) specifies under which path the mounted folders can be found inside the container. **Important**: To use the ``tutorial``, ``data`` and ``output`` folder, you first need to create them on your system!\n",
    "- ``miykael/nipype_tutorial`` tells docker which image you want to run.\n",
    "- ``jupyter notebook`` tells that you want to run directly the jupyter notebook command within the container. Alternatively, you can also use ``jupyter-lab``, ``bash`` or ``ipython``.\n",
    "\n",
    "**Note** that when you run this docker image without any more specification than it will prompt you a URL link in your terminal that you will need to copy paste into your browser to get to the notebooks. "
   ]
  },
  {
   "cell_type": "markdown",
   "metadata": {},
   "source": [
    "## Run a docker image on Linux or Mac\n",
    "\n",
    "Running a docker image on a Linux or Mac OS is very simple. Make sure that the folders ``tutorial``, ``data``, and ``output`` exist. Then just open a new terminal and use the command from above. Once the docker image is downloaded, open the shown URL link in your browser and you are good to go. The URL will look something like:\n",
    "\n",
    "    http://localhost:8888/?token=0312c1ef3b61d7a44ff5346d3d150c23249a548850e13868"
   ]
  },
  {
   "cell_type": "markdown",
   "metadata": {},
   "source": [
    "## Run a docker image on Windows\n",
    "\n",
    "Running a docker image on Windows is a bit trickier than on Ubuntu. Assuming you've installed the DockerToolbox, open the Docker Quickstart Terminal. Once the docker terminal is ready (when you see the whale), execute the following steps (see also figure):\n",
    "\n",
    "1. We need to check the IP address of your docker machine. For this, use the command: \n",
    "\n",
    "    ``docker-machine ip``\n",
    "\n",
    "   In my case, this returned ``192.168.99.100``\n",
    "\n",
    "2. If you haven't already created a new folder to store your container output into, do so. You can create the folder either in the explorer as usual or do it with the command ``mkdir -p`` in the docker console. For example like this:\n",
    "\n",
    "    ``mkdir -p /c/Users/username/output``\n",
    "\n",
    "    Please replace ``username`` with the name of the current user on your system. **Pay attention** that the folder paths in the docker terminal are not a backslash (``\\``) as we usually have in Windows. Also, ``C:\\`` needs to be specified as ``/c/``.\n",
    "\n",
    "3. Now, we can open run the container with the command from above:\n",
    "\n",
    "    `` docker run -it --rm -v /c/Users/username/path/to/nipype_tutorial/:/home/neuro/nipype_tutorial -v /c/Users/username/path/to/data/:/data -v /c/Users/username/path/to/output/:/output -p 8888:8888 miykael/nipype_tutorial``\n",
    "\n",
    "4. Once the docker image is downloaded, it will show you an URL that looks something like this:\n",
    "\n",
    "    ``http://localhost:8888/?token=0312c1ef3b61d7a44ff5346d3d150c23249a548850e13868``\n",
    "    \n",
    "    This URL will not work on a Windows system. To make it work, you need to replace the string ``localhost`` with the IP address of your docker machine, that we acquired under step 1. Afterward, your URL should look something like this:\n",
    "\n",
    "    ``http://192.168.99.100:8888/?token=0312c1ef3b61d7a44ff5346d3d150c23249a548850e13868``\n",
    "\n",
    "    Copy this link into your webbrowser and you're good to go!"
   ]
  },
  {
   "cell_type": "markdown",
   "metadata": {},
   "source": [
    "# Docker tips and tricks\n",
    "\n",
    "\n",
    "## Access Docker Container with ``bash`` or ``ipython``\n",
    "\n",
    "You don't have to open a jupyter notebook when you run ``miykael/nipype_tutorial``. You can also access the docker container directly with ``bash`` or ``ipython`` by adding it to the end of your command, i.e.:\n",
    "\n",
    "    docker run -it --rm -v /path/to/nipype_tutorial/:/home/neuro/nipype_tutorial -v /path/to/data/:/data -v /path/to/output/:/output -p 8888:8888 miykael/nipype_tutorial bash\n",
    "\n",
    "This also works with other software commands, such as ``bet`` etc."
   ]
  },
  {
   "cell_type": "markdown",
   "metadata": {},
   "source": [
    "## Stop Docker Container\n",
    "\n",
    "To stop a running docker container, either close the docker terminal or select the terminal and use the ``Ctrl-C`` shortcut multiple times."
   ]
  },
  {
   "cell_type": "markdown",
   "metadata": {},
   "source": [
    "## List all installed docker images\n",
    "\n",
    "To see a list of all installed docker images use:\n",
    "\n",
    "    docker images"
   ]
  },
  {
   "cell_type": "markdown",
   "metadata": {},
   "source": [
    "## Delete a specific docker image\n",
    "\n",
    "To delete a specific docker image, first use the ``docker images`` command to list all installed containers and then use the ``IMAGE ID`` and the ``rmi`` instruction to delete the container:\n",
    "\n",
    "    docker rmi -f 7d9495d03763"
   ]
  },
  {
   "cell_type": "markdown",
   "metadata": {},
   "source": [
    "## Export and Import a docker image\n",
    "\n",
    "If you don't want to depend on an internet connection, you can also export an already downloaded docker image and then later on import it on another PC. To do so, use the following two commands:\n",
    "\n",
    "\n",
    "    # Export docker image miykael/nipype_tutorial\n",
    "    docker save -o nipype_tutorial.tar miykael/nipype_tutorial\n",
    "\n",
    "    # Import docker image on another PC\n",
    "    docker load --input nipype_tutorial.tar\n",
    "    \n",
    "It might be possible that you run into administrator privileges issues because you ran your docker command with ``sudo``. This means that other users don't have access rights to ``nipype_tutorial.tar``. To avoid this, just change the rights of ``nipype_tutorial.tar`` with the command:\n",
    "\n",
    "    sudo chmod 777 nipype_tutorial.tar"
   ]
  }
 ],
 "metadata": {
  "anaconda-cloud": {},
  "kernelspec": {
   "display_name": "Python [default]",
   "language": "python",
   "name": "python3"
  },
  "language_info": {
   "codemirror_mode": {
    "name": "ipython",
    "version": 3
   },
   "file_extension": ".py",
   "mimetype": "text/x-python",
   "name": "python",
   "nbconvert_exporter": "python",
   "pygments_lexer": "ipython3",
   "version": "3.6.5"
  }
 },
 "nbformat": 4,
 "nbformat_minor": 1
}
